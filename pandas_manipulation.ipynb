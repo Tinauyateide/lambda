{
  "nbformat": 4,
  "nbformat_minor": 0,
  "metadata": {
    "colab": {
      "name": "pandas_manipulation.ipynb",
      "provenance": [],
      "collapsed_sections": []
    },
    "kernelspec": {
      "name": "python3",
      "display_name": "Python 3"
    },
    "language_info": {
      "name": "python"
    }
  },
  "cells": [
    {
      "cell_type": "markdown",
      "source": [
        "## importing my dependecy"
      ],
      "metadata": {
        "id": "gHfuFygF8qYU"
      }
    },
    {
      "cell_type": "code",
      "execution_count": null,
      "metadata": {
        "id": "WM_sWgBSTk9A"
      },
      "outputs": [],
      "source": [
        "import pandas as pd"
      ]
    },
    {
      "cell_type": "markdown",
      "source": [
        "# creating my order dataframe"
      ],
      "metadata": {
        "id": "GtQeadzL816U"
      }
    },
    {
      "cell_type": "code",
      "source": [
        "orders = pd.DataFrame({\n",
        "'order_id' : [1,2,3,4,5,6,7,8,9,10,11,12,13,14,15,16,17,18,19,20],\n",
        "'customer_id' : [2,5,6,1,7,9,10,3,4,8,5,7,9,3,4,2,6,10,1,8],\n",
        "'product_id' : [15,1,2,3,4,5,7,8,3,2,11,12,14,10,9,6,15,10,15,13],\n",
        "'quantity' : [5,3,2,5,5,4,3,5,1,5,3,2,1,1,1,4,4,5,4,5]\n",
        "})\n",
        "\n",
        "print(orders)"
      ],
      "metadata": {
        "colab": {
          "base_uri": "https://localhost:8080/"
        },
        "id": "oOyhsQul0Anb",
        "outputId": "d292ca30-b5c9-4335-d894-34c20f13f700"
      },
      "execution_count": null,
      "outputs": [
        {
          "output_type": "stream",
          "name": "stdout",
          "text": [
            "    order_id  customer_id  product_id  quantity\n",
            "0          1            2          15         5\n",
            "1          2            5           1         3\n",
            "2          3            6           2         2\n",
            "3          4            1           3         5\n",
            "4          5            7           4         5\n",
            "5          6            9           5         4\n",
            "6          7           10           7         3\n",
            "7          8            3           8         5\n",
            "8          9            4           3         1\n",
            "9         10            8           2         5\n",
            "10        11            5          11         3\n",
            "11        12            7          12         2\n",
            "12        13            9          14         1\n",
            "13        14            3          10         1\n",
            "14        15            4           9         1\n",
            "15        16            2           6         4\n",
            "16        17            6          15         4\n",
            "17        18           10          10         5\n",
            "18        19            1          15         4\n",
            "19        20            8          13         5\n"
          ]
        }
      ]
    },
    {
      "cell_type": "markdown",
      "source": [
        "creating my product dataframe"
      ],
      "metadata": {
        "id": "x5lRAc9A88yr"
      }
    },
    {
      "cell_type": "code",
      "source": [
        "products = pd.DataFrame({\n",
        "    'product_id' : [1,2,3,4,5,6,7,8,9,10,11,12,13,14,15],\n",
        "    'product_description' : ['toilet paper', 'blueband','bottle water','chocolate','milk','yougurt','dish washer','ice cream','note pads','bread','sardines','soap','juice','perfumes','wine'],\n",
        "    'product_price' : [700,1500,200,3000,4500,2500,1500,2000,1000,1000,750,4000,2500,15000,20000]\n",
        "})\n",
        "\n",
        "print(products)"
      ],
      "metadata": {
        "colab": {
          "base_uri": "https://localhost:8080/"
        },
        "id": "JJOGO1U95lbL",
        "outputId": "a4edb6eb-4bfb-4d30-c52d-b1d467f6535e"
      },
      "execution_count": null,
      "outputs": [
        {
          "output_type": "stream",
          "name": "stdout",
          "text": [
            "    product_id product_description  product_price\n",
            "0            1        toilet paper            700\n",
            "1            2            blueband           1500\n",
            "2            3        bottle water            200\n",
            "3            4           chocolate           3000\n",
            "4            5                milk           4500\n",
            "5            6             yougurt           2500\n",
            "6            7         dish washer           1500\n",
            "7            8           ice cream           2000\n",
            "8            9           note pads           1000\n",
            "9           10               bread           1000\n",
            "10          11            sardines            750\n",
            "11          12                soap           4000\n",
            "12          13               juice           2500\n",
            "13          14            perfumes          15000\n",
            "14          15                wine          20000\n"
          ]
        }
      ]
    },
    {
      "cell_type": "markdown",
      "source": [
        "## creating my customers data frame"
      ],
      "metadata": {
        "id": "xvkRHbVl9DGY"
      }
    },
    {
      "cell_type": "code",
      "source": [
        "customers = pd.DataFrame({\n",
        "    'customer_id': [1,2,3,4,5,6,7,8,9,10],\n",
        "    'customer_name': ['mary','kate','judy','tina','grace','john','andrew','sandra','gift','henry'],\n",
        "    'customer_address': ['ketu,lagos','badagry,lagos','magodo,lagos','yaba,lagos','palmgroove,lagos','surulere,lagos','lekki,lagos','vgc,lagos','chevron,lagos','ikeja,lagos'],\n",
        "    'customer_phone_number': ['09068572431','07066778934','08036647467','08099675434','07088946971','09054381003','09011000034','08067390234','09056782418','08195672345']\n",
        "})\n",
        "\n",
        "print(customers)"
      ],
      "metadata": {
        "colab": {
          "base_uri": "https://localhost:8080/"
        },
        "id": "MPargK8f81aO",
        "outputId": "1037b258-6aa7-475b-84fd-1f48754241c2"
      },
      "execution_count": null,
      "outputs": [
        {
          "output_type": "stream",
          "name": "stdout",
          "text": [
            "   customer_id customer_name  customer_address customer_phone_number\n",
            "0            1          mary        ketu,lagos           09068572431\n",
            "1            2          kate     badagry,lagos           07066778934\n",
            "2            3          judy      magodo,lagos           08036647467\n",
            "3            4          tina        yaba,lagos           08099675434\n",
            "4            5         grace  palmgroove,lagos           07088946971\n",
            "5            6          john    surulere,lagos           09054381003\n",
            "6            7        andrew       lekki,lagos           09011000034\n",
            "7            8        sandra         vgc,lagos           08067390234\n",
            "8            9          gift     chevron,lagos           09056782418\n",
            "9           10         henry       ikeja,lagos           08195672345\n"
          ]
        }
      ]
    },
    {
      "cell_type": "markdown",
      "source": [
        "## merging my datasets from each table together"
      ],
      "metadata": {
        "id": "aNsyAZEJ9OIc"
      }
    },
    {
      "cell_type": "code",
      "source": [
        "order_products = orders.merge(products)\n",
        "# print(order_products)\n",
        "\n",
        "my_customers = order_products.merge(customers)\n",
        "print(my_customers)"
      ],
      "metadata": {
        "colab": {
          "base_uri": "https://localhost:8080/"
        },
        "id": "IjYyQVyvCqq_",
        "outputId": "0251d455-149d-46d4-b61c-e7765597ae7f"
      },
      "execution_count": null,
      "outputs": [
        {
          "output_type": "stream",
          "name": "stdout",
          "text": [
            "    order_id  customer_id  product_id  quantity product_description  \\\n",
            "0          1            2          15         5                wine   \n",
            "1         16            2           6         4             yougurt   \n",
            "2         17            6          15         4                wine   \n",
            "3          3            6           2         2            blueband   \n",
            "4         19            1          15         4                wine   \n",
            "5          4            1           3         5        bottle water   \n",
            "6          2            5           1         3        toilet paper   \n",
            "7         11            5          11         3            sardines   \n",
            "8         10            8           2         5            blueband   \n",
            "9         20            8          13         5               juice   \n",
            "10         9            4           3         1        bottle water   \n",
            "11        15            4           9         1           note pads   \n",
            "12         5            7           4         5           chocolate   \n",
            "13        12            7          12         2                soap   \n",
            "14         6            9           5         4                milk   \n",
            "15        13            9          14         1            perfumes   \n",
            "16         7           10           7         3         dish washer   \n",
            "17        18           10          10         5               bread   \n",
            "18         8            3           8         5           ice cream   \n",
            "19        14            3          10         1               bread   \n",
            "\n",
            "    product_price customer_name  customer_address customer_phone_number  \n",
            "0           20000          kate     badagry,lagos           07066778934  \n",
            "1            2500          kate     badagry,lagos           07066778934  \n",
            "2           20000          john    surulere,lagos           09054381003  \n",
            "3            1500          john    surulere,lagos           09054381003  \n",
            "4           20000          mary        ketu,lagos           09068572431  \n",
            "5             200          mary        ketu,lagos           09068572431  \n",
            "6             700         grace  palmgroove,lagos           07088946971  \n",
            "7             750         grace  palmgroove,lagos           07088946971  \n",
            "8            1500        sandra         vgc,lagos           08067390234  \n",
            "9            2500        sandra         vgc,lagos           08067390234  \n",
            "10            200          tina        yaba,lagos           08099675434  \n",
            "11           1000          tina        yaba,lagos           08099675434  \n",
            "12           3000        andrew       lekki,lagos           09011000034  \n",
            "13           4000        andrew       lekki,lagos           09011000034  \n",
            "14           4500          gift     chevron,lagos           09056782418  \n",
            "15          15000          gift     chevron,lagos           09056782418  \n",
            "16           1500         henry       ikeja,lagos           08195672345  \n",
            "17           1000         henry       ikeja,lagos           08195672345  \n",
            "18           2000          judy      magodo,lagos           08036647467  \n",
            "19           1000          judy      magodo,lagos           08036647467  \n"
          ]
        }
      ]
    },
    {
      "cell_type": "markdown",
      "source": [
        "i observed that my table merged properly, using column information's without such command being passed in my code, shared across the three different dataframe , to identify where pieces of information from the table fits and where they reoccur."
      ],
      "metadata": {
        "id": "Q0kEBeIuRBtR"
      }
    },
    {
      "cell_type": "markdown",
      "source": [
        "## merging my customers and orders data frames together"
      ],
      "metadata": {
        "id": "7r1KwBOk9eID"
      }
    },
    {
      "cell_type": "code",
      "source": [
        "customer_orders = customers.merge(orders, on='customer_id')\n",
        "\n",
        "print(customer_orders)"
      ],
      "metadata": {
        "colab": {
          "base_uri": "https://localhost:8080/"
        },
        "id": "Y3LaxO93JElL",
        "outputId": "2b2b5f6e-f969-4fe5-ee1d-8cb9fbc83c38"
      },
      "execution_count": null,
      "outputs": [
        {
          "output_type": "stream",
          "name": "stdout",
          "text": [
            "    customer_id customer_name  customer_address customer_phone_number  \\\n",
            "0             1          mary        ketu,lagos           09068572431   \n",
            "1             1          mary        ketu,lagos           09068572431   \n",
            "2             2          kate     badagry,lagos           07066778934   \n",
            "3             2          kate     badagry,lagos           07066778934   \n",
            "4             3          judy      magodo,lagos           08036647467   \n",
            "5             3          judy      magodo,lagos           08036647467   \n",
            "6             4          tina        yaba,lagos           08099675434   \n",
            "7             4          tina        yaba,lagos           08099675434   \n",
            "8             5         grace  palmgroove,lagos           07088946971   \n",
            "9             5         grace  palmgroove,lagos           07088946971   \n",
            "10            6          john    surulere,lagos           09054381003   \n",
            "11            6          john    surulere,lagos           09054381003   \n",
            "12            7        andrew       lekki,lagos           09011000034   \n",
            "13            7        andrew       lekki,lagos           09011000034   \n",
            "14            8        sandra         vgc,lagos           08067390234   \n",
            "15            8        sandra         vgc,lagos           08067390234   \n",
            "16            9          gift     chevron,lagos           09056782418   \n",
            "17            9          gift     chevron,lagos           09056782418   \n",
            "18           10         henry       ikeja,lagos           08195672345   \n",
            "19           10         henry       ikeja,lagos           08195672345   \n",
            "\n",
            "    order_id  product_id  quantity  \n",
            "0          4           3         5  \n",
            "1         19          15         4  \n",
            "2          1          15         5  \n",
            "3         16           6         4  \n",
            "4          8           8         5  \n",
            "5         14          10         1  \n",
            "6          9           3         1  \n",
            "7         15           9         1  \n",
            "8          2           1         3  \n",
            "9         11          11         3  \n",
            "10         3           2         2  \n",
            "11        17          15         4  \n",
            "12         5           4         5  \n",
            "13        12          12         2  \n",
            "14        10           2         5  \n",
            "15        20          13         5  \n",
            "16         6           5         4  \n",
            "17        13          14         1  \n",
            "18         7           7         3  \n",
            "19        18          10         5  \n"
          ]
        }
      ]
    },
    {
      "cell_type": "markdown",
      "source": [
        "i had to specify which column i want my table to merge on, which is the customers_id seen as both dataframe share that in common."
      ],
      "metadata": {
        "id": "FeTWIaPqRMYE"
      }
    },
    {
      "cell_type": "markdown",
      "source": [
        "# merging my customers and product dataframe together "
      ],
      "metadata": {
        "id": "bk_S7lpd9phf"
      }
    },
    {
      "cell_type": "code",
      "source": [
        "customer_products = customers.merge(products, how='outer')"
      ],
      "metadata": {
        "id": "fMJWo5CxOcqm"
      },
      "execution_count": null,
      "outputs": []
    },
    {
      "cell_type": "markdown",
      "source": [
        "this wont work seen as both dataframe have no common columes to merge with."
      ],
      "metadata": {
        "id": "wxOnQ0_cQiGU"
      }
    },
    {
      "cell_type": "markdown",
      "source": [
        "## merging my customers and order data frame together "
      ],
      "metadata": {
        "id": "12o7QJ-b97P-"
      }
    },
    {
      "cell_type": "code",
      "source": [
        "customer_order = customers.merge(orders, how='left')\n",
        "\n",
        "print(customer_order)"
      ],
      "metadata": {
        "colab": {
          "base_uri": "https://localhost:8080/"
        },
        "id": "1QnMMNLa4CzX",
        "outputId": "103a16a0-b0e6-4138-ec66-4f31c8554c8b"
      },
      "execution_count": null,
      "outputs": [
        {
          "output_type": "stream",
          "name": "stdout",
          "text": [
            "    customer_id customer_name  customer_address customer_phone_number  \\\n",
            "0             1          mary        ketu,lagos           09068572431   \n",
            "1             1          mary        ketu,lagos           09068572431   \n",
            "2             2          kate     badagry,lagos           07066778934   \n",
            "3             2          kate     badagry,lagos           07066778934   \n",
            "4             3          judy      magodo,lagos           08036647467   \n",
            "5             3          judy      magodo,lagos           08036647467   \n",
            "6             4          tina        yaba,lagos           08099675434   \n",
            "7             4          tina        yaba,lagos           08099675434   \n",
            "8             5         grace  palmgroove,lagos           07088946971   \n",
            "9             5         grace  palmgroove,lagos           07088946971   \n",
            "10            6          john    surulere,lagos           09054381003   \n",
            "11            6          john    surulere,lagos           09054381003   \n",
            "12            7        andrew       lekki,lagos           09011000034   \n",
            "13            7        andrew       lekki,lagos           09011000034   \n",
            "14            8        sandra         vgc,lagos           08067390234   \n",
            "15            8        sandra         vgc,lagos           08067390234   \n",
            "16            9          gift     chevron,lagos           09056782418   \n",
            "17            9          gift     chevron,lagos           09056782418   \n",
            "18           10         henry       ikeja,lagos           08195672345   \n",
            "19           10         henry       ikeja,lagos           08195672345   \n",
            "\n",
            "    order_id  product_id  quantity  \n",
            "0          4           3         5  \n",
            "1         19          15         4  \n",
            "2          1          15         5  \n",
            "3         16           6         4  \n",
            "4          8           8         5  \n",
            "5         14          10         1  \n",
            "6          9           3         1  \n",
            "7         15           9         1  \n",
            "8          2           1         3  \n",
            "9         11          11         3  \n",
            "10         3           2         2  \n",
            "11        17          15         4  \n",
            "12         5           4         5  \n",
            "13        12          12         2  \n",
            "14        10           2         5  \n",
            "15        20          13         5  \n",
            "16         6           5         4  \n",
            "17        13          14         1  \n",
            "18         7           7         3  \n",
            "19        18          10         5  \n"
          ]
        }
      ]
    },
    {
      "cell_type": "markdown",
      "source": [
        "this code workscause both dataframes share a common column in the dataset\n"
      ],
      "metadata": {
        "id": "-7X_bD6nZYd_"
      }
    },
    {
      "cell_type": "code",
      "source": [
        "customer_product = customers.merge(products, how='right')\n",
        "\n",
        "print(customer_product)"
      ],
      "metadata": {
        "id": "5jPX6U9nJCQM"
      },
      "execution_count": null,
      "outputs": []
    },
    {
      "cell_type": "markdown",
      "source": [
        "this code wont work cause bot dataframes has no common column "
      ],
      "metadata": {
        "id": "EJcNVIMkZMq3"
      }
    },
    {
      "cell_type": "markdown",
      "source": [
        "## concatenating my tables together with the .concat() function"
      ],
      "metadata": {
        "id": "_AA5M5af-h6Z"
      }
    },
    {
      "cell_type": "code",
      "source": [
        "my_new_df = [orders,products,customers]\n",
        "result = pd.concat(my_new_df)\n",
        "print(result)"
      ],
      "metadata": {
        "colab": {
          "base_uri": "https://localhost:8080/"
        },
        "id": "GEan6OnuTukb",
        "outputId": "14485fc1-e0a5-46a2-acc3-ba2e39bb19ee"
      },
      "execution_count": null,
      "outputs": [
        {
          "output_type": "stream",
          "name": "stdout",
          "text": [
            "    order_id  customer_id  product_id  quantity product_description  \\\n",
            "0        1.0          2.0        15.0       5.0                 NaN   \n",
            "1        2.0          5.0         1.0       3.0                 NaN   \n",
            "2        3.0          6.0         2.0       2.0                 NaN   \n",
            "3        4.0          1.0         3.0       5.0                 NaN   \n",
            "4        5.0          7.0         4.0       5.0                 NaN   \n",
            "5        6.0          9.0         5.0       4.0                 NaN   \n",
            "6        7.0         10.0         7.0       3.0                 NaN   \n",
            "7        8.0          3.0         8.0       5.0                 NaN   \n",
            "8        9.0          4.0         3.0       1.0                 NaN   \n",
            "9       10.0          8.0         2.0       5.0                 NaN   \n",
            "10      11.0          5.0        11.0       3.0                 NaN   \n",
            "11      12.0          7.0        12.0       2.0                 NaN   \n",
            "12      13.0          9.0        14.0       1.0                 NaN   \n",
            "13      14.0          3.0        10.0       1.0                 NaN   \n",
            "14      15.0          4.0         9.0       1.0                 NaN   \n",
            "15      16.0          2.0         6.0       4.0                 NaN   \n",
            "16      17.0          6.0        15.0       4.0                 NaN   \n",
            "17      18.0         10.0        10.0       5.0                 NaN   \n",
            "18      19.0          1.0        15.0       4.0                 NaN   \n",
            "19      20.0          8.0        13.0       5.0                 NaN   \n",
            "0        NaN          NaN         1.0       NaN        toilet paper   \n",
            "1        NaN          NaN         2.0       NaN            blueband   \n",
            "2        NaN          NaN         3.0       NaN        bottle water   \n",
            "3        NaN          NaN         4.0       NaN           chocolate   \n",
            "4        NaN          NaN         5.0       NaN                milk   \n",
            "5        NaN          NaN         6.0       NaN             yougurt   \n",
            "6        NaN          NaN         7.0       NaN         dish washer   \n",
            "7        NaN          NaN         8.0       NaN           ice cream   \n",
            "8        NaN          NaN         9.0       NaN           note pads   \n",
            "9        NaN          NaN        10.0       NaN               bread   \n",
            "10       NaN          NaN        11.0       NaN            sardines   \n",
            "11       NaN          NaN        12.0       NaN                soap   \n",
            "12       NaN          NaN        13.0       NaN               juice   \n",
            "13       NaN          NaN        14.0       NaN            perfumes   \n",
            "14       NaN          NaN        15.0       NaN                wine   \n",
            "0        NaN          1.0         NaN       NaN                 NaN   \n",
            "1        NaN          2.0         NaN       NaN                 NaN   \n",
            "2        NaN          3.0         NaN       NaN                 NaN   \n",
            "3        NaN          4.0         NaN       NaN                 NaN   \n",
            "4        NaN          5.0         NaN       NaN                 NaN   \n",
            "5        NaN          6.0         NaN       NaN                 NaN   \n",
            "6        NaN          7.0         NaN       NaN                 NaN   \n",
            "7        NaN          8.0         NaN       NaN                 NaN   \n",
            "8        NaN          9.0         NaN       NaN                 NaN   \n",
            "9        NaN         10.0         NaN       NaN                 NaN   \n",
            "\n",
            "    product_price customer_name  customer_address customer_phone_number  \n",
            "0             NaN           NaN               NaN                   NaN  \n",
            "1             NaN           NaN               NaN                   NaN  \n",
            "2             NaN           NaN               NaN                   NaN  \n",
            "3             NaN           NaN               NaN                   NaN  \n",
            "4             NaN           NaN               NaN                   NaN  \n",
            "5             NaN           NaN               NaN                   NaN  \n",
            "6             NaN           NaN               NaN                   NaN  \n",
            "7             NaN           NaN               NaN                   NaN  \n",
            "8             NaN           NaN               NaN                   NaN  \n",
            "9             NaN           NaN               NaN                   NaN  \n",
            "10            NaN           NaN               NaN                   NaN  \n",
            "11            NaN           NaN               NaN                   NaN  \n",
            "12            NaN           NaN               NaN                   NaN  \n",
            "13            NaN           NaN               NaN                   NaN  \n",
            "14            NaN           NaN               NaN                   NaN  \n",
            "15            NaN           NaN               NaN                   NaN  \n",
            "16            NaN           NaN               NaN                   NaN  \n",
            "17            NaN           NaN               NaN                   NaN  \n",
            "18            NaN           NaN               NaN                   NaN  \n",
            "19            NaN           NaN               NaN                   NaN  \n",
            "0           700.0           NaN               NaN                   NaN  \n",
            "1          1500.0           NaN               NaN                   NaN  \n",
            "2           200.0           NaN               NaN                   NaN  \n",
            "3          3000.0           NaN               NaN                   NaN  \n",
            "4          4500.0           NaN               NaN                   NaN  \n",
            "5          2500.0           NaN               NaN                   NaN  \n",
            "6          1500.0           NaN               NaN                   NaN  \n",
            "7          2000.0           NaN               NaN                   NaN  \n",
            "8          1000.0           NaN               NaN                   NaN  \n",
            "9          1000.0           NaN               NaN                   NaN  \n",
            "10          750.0           NaN               NaN                   NaN  \n",
            "11         4000.0           NaN               NaN                   NaN  \n",
            "12         2500.0           NaN               NaN                   NaN  \n",
            "13        15000.0           NaN               NaN                   NaN  \n",
            "14        20000.0           NaN               NaN                   NaN  \n",
            "0             NaN          mary        ketu,lagos           09068572431  \n",
            "1             NaN          kate     badagry,lagos           07066778934  \n",
            "2             NaN          judy      magodo,lagos           08036647467  \n",
            "3             NaN          tina        yaba,lagos           08099675434  \n",
            "4             NaN         grace  palmgroove,lagos           07088946971  \n",
            "5             NaN          john    surulere,lagos           09054381003  \n",
            "6             NaN        andrew       lekki,lagos           09011000034  \n",
            "7             NaN        sandra         vgc,lagos           08067390234  \n",
            "8             NaN          gift     chevron,lagos           09056782418  \n",
            "9             NaN         henry       ikeja,lagos           08195672345  \n"
          ]
        }
      ]
    }
  ]
}